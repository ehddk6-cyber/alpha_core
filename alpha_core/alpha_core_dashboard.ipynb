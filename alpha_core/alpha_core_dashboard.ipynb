{
 "cells": [
  {
   "cell_type": "markdown",
   "id": "cb2808f3",
   "metadata": {},
   "source": [
    "# Alpha-Core Dashboard\n",
    "\n",
    "실행 전 `build_alpha_core_data.py`를 돌려 최신 데이터를 생성하세요."
   ]
  },
  {
   "cell_type": "code",
   "execution_count": null,
   "id": "01b9905d",
   "metadata": {},
   "outputs": [],
   "source": [
    "from market_analysis import MarketAnalyzer, BacktestEngine, load_dashboard_payload\n",
    "\n",
    "analyzer = MarketAnalyzer()\n",
    "dashboard_payload = load_dashboard_payload(analyzer)\n",
    "asset_summary = dashboard_payload['asset_summary']\n",
    "asset_summary"
   ]
  },
  {
   "cell_type": "code",
   "execution_count": null,
   "id": "041b1474",
   "metadata": {},
   "outputs": [],
   "source": [
    "macro_summary = dashboard_payload['macro_summary']\n",
    "macro_summary"
   ]
  },
  {
   "cell_type": "code",
   "execution_count": null,
   "id": "5fca341d",
   "metadata": {},
   "outputs": [],
   "source": [
    "import plotly.express as px\n",
    "symbol = 'QQQ'\n",
    "history = analyzer.load_price_history(symbol)\n",
    "if history.empty:\n",
    "    print(f'{symbol} price history not found.')\n",
    "else:\n",
    "    fig = px.line(history.tail(200), y='Close', title=f'{symbol} Close Price (last 200 bars)')\n",
    "    fig.update_traces(line=dict(color='#1f77b4'))\n",
    "    fig.show()"
   ]
  },
  {
   "cell_type": "code",
   "execution_count": null,
   "id": "111830f3",
   "metadata": {},
   "outputs": [],
   "source": [
    "engine = BacktestEngine(analyzer)\n",
    "try:\n",
    "    report = engine.simulate_sma_trend_strategy('QQQ')\n",
    "except ValueError as exc:\n",
    "    print(exc)\n",
    "else:\n",
    "    display({\n",
    "        'Total Return (%)': round(report.total_return_pct, 2),\n",
    "        'CAGR (%)': round(report.cagr_pct, 2),\n",
    "        'Sharpe': round(report.sharpe_ratio, 2),\n",
    "        'Max Drawdown (%)': round(report.max_drawdown_pct, 2),\n",
    "        'Trades': report.trades\n",
    "    })\n",
    "    curve = report.equity_curve.tail(200)\n",
    "    import plotly.express as px\n",
    "    fig = px.line(curve, title='Equity Curve vs Buy & Hold')\n",
    "    fig.show()"
   ]
  }
 ],
 "metadata": {},
 "nbformat": 4,
 "nbformat_minor": 5
}